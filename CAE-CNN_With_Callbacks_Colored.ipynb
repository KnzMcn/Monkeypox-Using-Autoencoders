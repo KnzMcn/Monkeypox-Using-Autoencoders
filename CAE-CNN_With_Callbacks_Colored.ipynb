{
  "cells": [
    {
      "cell_type": "markdown",
      "metadata": {
        "id": "view-in-github",
        "colab_type": "text"
      },
      "source": [
        "<a href=\"https://colab.research.google.com/github/KnzMcn/Monkeypox-Using-Autoencoders/blob/main/CAE-CNN_With_Callbacks_Colored.ipynb\" target=\"_parent\"><img src=\"https://colab.research.google.com/assets/colab-badge.svg\" alt=\"Open In Colab\"/></a>"
      ]
    },
    {
      "cell_type": "markdown",
      "id": "4429ea1f",
      "metadata": {
        "id": "4429ea1f"
      },
      "source": [
        "Another attempt at building an autoencoder as a classifier"
      ]
    },
    {
      "cell_type": "markdown",
      "id": "85a471f1",
      "metadata": {
        "id": "85a471f1"
      },
      "source": [
        "# Import the libraries"
      ]
    },
    {
      "cell_type": "code",
      "source": [
        "#if image_dataset_loader is not available uncomment the line below\n",
        "!pip install image-dataset-loader"
      ],
      "metadata": {
        "id": "Etrubxx_bbAV",
        "colab": {
          "base_uri": "https://localhost:8080/"
        },
        "outputId": "c809e35e-0d4e-4725-d55b-48a5d62f2b70"
      },
      "id": "Etrubxx_bbAV",
      "execution_count": 1,
      "outputs": [
        {
          "output_type": "stream",
          "name": "stdout",
          "text": [
            "Looking in indexes: https://pypi.org/simple, https://us-python.pkg.dev/colab-wheels/public/simple/\n",
            "Collecting image-dataset-loader\n",
            "  Downloading image_dataset_loader-0.0.0-py3-none-any.whl (4.3 kB)\n",
            "Requirement already satisfied: imageio>=2.0.0 in /usr/local/lib/python3.7/dist-packages (from image-dataset-loader) (2.9.0)\n",
            "Requirement already satisfied: numpy>=1.0.0 in /usr/local/lib/python3.7/dist-packages (from image-dataset-loader) (1.21.6)\n",
            "Requirement already satisfied: pillow in /usr/local/lib/python3.7/dist-packages (from imageio>=2.0.0->image-dataset-loader) (7.1.2)\n",
            "Installing collected packages: image-dataset-loader\n",
            "Successfully installed image-dataset-loader-0.0.0\n"
          ]
        }
      ]
    },
    {
      "cell_type": "code",
      "execution_count": 2,
      "id": "e45cc202",
      "metadata": {
        "id": "e45cc202"
      },
      "outputs": [],
      "source": [
        "import numpy as np\n",
        "import matplotlib.pyplot as plt\n",
        "import seaborn as sns\n",
        "import image_dataset_loader\n",
        "\n",
        "import keras\n",
        "from keras.models import Model, Sequential\n",
        "from keras.optimizers import RMSprop\n",
        "from keras.layers import Input, Dense, Flatten, Dropout, Reshape, Conv2D, MaxPooling2D, UpSampling2D, Conv2DTranspose\n",
        "from keras.callbacks import ModelCheckpoint, EarlyStopping\n",
        "from keras import regularizers\n",
        "from keras import backend as K\n",
        "from keras.utils import to_categorical\n",
        "from tensorflow.keras.layers import BatchNormalization\n",
        "\n",
        "from google.colab import drive\n",
        "import zipfile\n",
        "import os\n",
        "from PIL import Image\n",
        "\n",
        "from sklearn.metrics import classification_report"
      ]
    },
    {
      "cell_type": "markdown",
      "id": "fff70e17",
      "metadata": {
        "id": "fff70e17"
      },
      "source": [
        "# Import the dataset"
      ]
    },
    {
      "cell_type": "code",
      "source": [
        "#the commented code below only works on local source, change it as needed\n",
        "#(X_train, y_train), (X_test, y_test), (X_val, y_val) = image_dataset_loader.load(\"C:/Users/TOSHIBA_2/Documents/College/3rd - First Sem/Machine Learning/Codes/Learning Evidence/Fold1\", ['Train', 'Test', 'Val'])"
      ],
      "metadata": {
        "id": "neG8by84hfWu"
      },
      "id": "neG8by84hfWu",
      "execution_count": 3,
      "outputs": []
    },
    {
      "cell_type": "code",
      "execution_count": 4,
      "id": "5b3b14df",
      "metadata": {
        "id": "5b3b14df",
        "colab": {
          "base_uri": "https://localhost:8080/"
        },
        "outputId": "9850e5a0-bd63-48da-cd9b-de285e94cd4d"
      },
      "outputs": [
        {
          "output_type": "stream",
          "name": "stdout",
          "text": [
            "Mounted at /content/drive\n"
          ]
        }
      ],
      "source": [
        "#using Gdrive to import the dataset into Google Colab\n",
        "#will ask for authorization\n",
        "drive.mount('/content/drive')"
      ]
    },
    {
      "cell_type": "code",
      "source": [
        "#if /tmp has contents or repeating Fold1 contents, delete using the line below\n",
        "#%rm -rf /tmp/Fold1"
      ],
      "metadata": {
        "id": "BBYiTI4iwk-k"
      },
      "id": "BBYiTI4iwk-k",
      "execution_count": 5,
      "outputs": []
    },
    {
      "cell_type": "code",
      "source": [
        "#unzip the desired folder and extract the contents into the tmp folder\n",
        "#edit the first one depending on where the zipfile is stored in your Gdrive\n",
        "zip_ref = zipfile.ZipFile('/content/drive/MyDrive/3rd year/Machine Learning/Learning Evidence/Fold1.zip', 'r') #Opens the file in read mode\n",
        "zip_ref.extractall('/tmp')\n",
        "zip_ref.close()"
      ],
      "metadata": {
        "id": "9z3V934Dhy-P"
      },
      "id": "9z3V934Dhy-P",
      "execution_count": 6,
      "outputs": []
    },
    {
      "cell_type": "code",
      "source": [
        "#resize the image for faster processing\n",
        "#no need to edit the next line, it will just overwrite the original data with the resized data\n",
        "#but if you're working locally, change it according to the path of the dataset\n",
        "main_directory = '/tmp/Fold1/Fold1/'\n",
        "\n",
        "for subdir, dirs, files in os.walk(main_directory):\n",
        "  for file in files:\n",
        "    filepath = os.path.join(subdir, file)\n",
        "\n",
        "    if filepath.endswith('.jpg'):\n",
        "      im = Image.open(filepath)\n",
        "      imResize = im.resize((75, 75), Image.ANTIALIAS)\n",
        "      imResize.save(filepath, 'JPEG', quality=90)"
      ],
      "metadata": {
        "id": "Nxv_PnWjKiLU"
      },
      "id": "Nxv_PnWjKiLU",
      "execution_count": 7,
      "outputs": []
    },
    {
      "cell_type": "code",
      "source": [
        "#import the images and divide them according to their folders\n",
        "#label_test/train/val is for original labels that is without one hot encoding\n",
        "(X_train, label_train), (X_test, label_test), (X_val, label_val) = image_dataset_loader.load('/tmp/Fold1/Fold1', ['Train', 'Test', 'Val'])"
      ],
      "metadata": {
        "id": "FSnPgFRHimgi"
      },
      "id": "FSnPgFRHimgi",
      "execution_count": 8,
      "outputs": []
    },
    {
      "cell_type": "code",
      "execution_count": 9,
      "id": "d98950fe",
      "metadata": {
        "id": "d98950fe",
        "colab": {
          "base_uri": "https://localhost:8080/"
        },
        "outputId": "813a51fd-315a-4713-b809-88d12c672219"
      },
      "outputs": [
        {
          "output_type": "stream",
          "name": "stdout",
          "text": [
            "X_train shape: (2142, 75, 75, 3)\n",
            "label_train shape: (2142,)\n",
            "\n",
            "X_test shape: (45, 75, 75, 3)\n",
            "label_test shape: (45,)\n",
            "\n",
            "X_val shape: (420, 75, 75, 3)\n",
            "label_val shape: (420,)\n"
          ]
        }
      ],
      "source": [
        "#print the shape of each set\n",
        "print(\"X_train shape: {}\\nlabel_train shape: {}\".format(X_train.shape, label_train.shape))\n",
        "print(\"\\nX_test shape: {}\\nlabel_test shape: {}\".format(X_test.shape, label_test.shape))\n",
        "print(\"\\nX_val shape: {}\\nlabel_val shape: {}\".format(X_val.shape, label_val.shape))"
      ]
    },
    {
      "cell_type": "code",
      "execution_count": 10,
      "id": "1505fbd6",
      "metadata": {
        "id": "1505fbd6"
      },
      "outputs": [],
      "source": [
        "#create dictionary of target classes\n",
        "label_dict = {\n",
        "    0: 'Monkeypox',\n",
        "    1: 'Others'\n",
        "}"
      ]
    },
    {
      "cell_type": "code",
      "execution_count": 11,
      "id": "e2a3ac8b",
      "metadata": {
        "id": "e2a3ac8b",
        "colab": {
          "base_uri": "https://localhost:8080/",
          "height": 322
        },
        "outputId": "8bb335df-b7c5-40f3-c7f6-3d2c5cc0385d"
      },
      "outputs": [
        {
          "output_type": "display_data",
          "data": {
            "text/plain": [
              "<Figure size 720x360 with 6 Axes>"
            ],
            "image/png": "[encoded data removed]"
          },
          "metadata": {
            "needs_background": "light"
          }
        }
      ],
      "source": [
        "#display images\n",
        "plt.figure(figsize = [10, 5])\n",
        "\n",
        "n = 3 #how many images to display\n",
        "for i in range(n):\n",
        "    #training images\n",
        "    ax = plt.subplot(2, n, i+1)\n",
        "    plt.imshow(X_train[i].reshape(75, 75, 3))\n",
        "    ax.get_xaxis().set_visible(False)\n",
        "    ax.get_yaxis().set_visible(False)\n",
        "    curr_lbl = label_train[i]\n",
        "    plt.title(\"(Label: \" + str(label_dict[curr_lbl]) +\")\")\n",
        "\n",
        "    #testing images\n",
        "    ax = plt.subplot(2, n, i+1+n)\n",
        "    plt.imshow(X_test[i].reshape(75, 75, 3))\n",
        "    ax.get_xaxis().set_visible(False)\n",
        "    ax.get_yaxis().set_visible(False)\n",
        "    curr_lbl = label_test[i]\n",
        "    plt.title(\"(Label: \" + str(label_dict[curr_lbl]) +\")\")\n",
        "plt.show()"
      ]
    },
    {
      "cell_type": "code",
      "execution_count": 12,
      "id": "e26a3fce",
      "metadata": {
        "id": "e26a3fce",
        "colab": {
          "base_uri": "https://localhost:8080/"
        },
        "outputId": "6a708a69-204c-4473-9246-7e0ffadec3c0"
      },
      "outputs": [
        {
          "output_type": "stream",
          "name": "stdout",
          "text": [
            "Labels for label_train: [0 1 0 1 1]\n",
            "Labels for label_test: [1 1 1 0 0]\n",
            "Labels for label_val: [0 1 0 1 0]\n"
          ]
        }
      ],
      "source": [
        "#print the labels for each set\n",
        "print(\"Labels for label_train: {}\".format(label_train[:5]))\n",
        "print(\"Labels for label_test: {}\".format(label_test[:5]))\n",
        "print(\"Labels for label_val: {}\".format(label_val[:5]))"
      ]
    },
    {
      "cell_type": "markdown",
      "id": "f2752a04",
      "metadata": {
        "id": "f2752a04"
      },
      "source": [
        "# Preprocessing"
      ]
    },
    {
      "cell_type": "code",
      "execution_count": null,
      "id": "dac9d785",
      "metadata": {
        "id": "dac9d785"
      },
      "outputs": [],
      "source": [
        "#cleaning and reshaping the data\n",
        "X_train = X_train.astype('float32') / 255\n",
        "X_train = np.reshape(X_train, (len(X_train), 75, 75, 3))\n",
        "X_test = X_test.astype('float32') / 255\n",
        "X_test = np.reshape(X_test, (len(X_test), 75, 75, 3))\n",
        "X_val = X_val.astype('float32') / 255\n",
        "X_val = np.reshape(X_val, (len(X_val), 75, 75, 3))"
      ]
    },
    {
      "cell_type": "markdown",
      "id": "cf3fae69",
      "metadata": {
        "id": "cf3fae69"
      },
      "source": [
        "# Convolutional Autoencoder"
      ]
    },
    {
      "cell_type": "code",
      "execution_count": null,
      "id": "46bb5d5e",
      "metadata": {
        "id": "46bb5d5e"
      },
      "outputs": [],
      "source": [
        "#state the hyperparameters of the model\n",
        "#would need to run a hyperparameter tuning\n",
        "#increasing powers of two for the batch_size should be used (e.g. 32, 64, 128)\n",
        "batch_size = 256\n",
        "epochs = 50\n",
        "inChannel = 3\n",
        "x, y = 75, 75\n",
        "input_img = Input(shape = (x, y, inChannel))\n",
        "num_classes = 2"
      ]
    },
    {
      "cell_type": "code",
      "execution_count": null,
      "id": "1b6edb9f",
      "metadata": {
        "id": "1b6edb9f"
      },
      "outputs": [],
      "source": [
        "#creating the encoder function\n",
        "def encoder(input_img):\n",
        "    x = Conv2D(32, (3, 3), activation='relu', padding='same')(input_img)\n",
        "    x = BatchNormalization()(x)\n",
        "    x = Conv2D(32, (3, 3), activation='relu', padding='same')(x)\n",
        "    x = BatchNormalization()(x)\n",
        "    x = MaxPooling2D(pool_size=(2, 2))(x)\n",
        "    x = Conv2D(64, (3, 3), activation='relu', padding ='same')(x)\n",
        "    x = BatchNormalization()(x)\n",
        "    x = Conv2D(64, (3, 3), activation='relu', padding='same')(x)\n",
        "    x = BatchNormalization()(x)\n",
        "    x = MaxPooling2D(pool_size=(2, 2))(x)\n",
        "    x = Conv2D(128, (3, 3), activation='relu', padding='same')(x)\n",
        "    x = BatchNormalization()(x)\n",
        "    x = Conv2D(128, (3, 3), activation='relu', padding='same')(x)\n",
        "    x = BatchNormalization()(x)\n",
        "    x = Conv2D(256, (3, 3), activation='relu', padding='same')(x)\n",
        "    x = BatchNormalization()(x)\n",
        "    x = Conv2D(256, (3, 3), activation='relu', padding='same')(x)\n",
        "    x = BatchNormalization()(x)\n",
        "    return x"
      ]
    },
    {
      "cell_type": "code",
      "execution_count": null,
      "id": "844c9210",
      "metadata": {
        "id": "844c9210"
      },
      "outputs": [],
      "source": [
        "#creating the decoder function\n",
        "def decoder(x):\n",
        "    x = Conv2D(128, (3, 3), activation='relu', padding='same')(x)\n",
        "    x = BatchNormalization()(x)\n",
        "    x = Conv2D(128, (3, 3), activation='relu', padding='same')(x)\n",
        "    x = BatchNormalization()(x)\n",
        "    x = Conv2D(64, (3, 3), activation='relu', padding='same')(x)\n",
        "    x = BatchNormalization()(x)\n",
        "    x = Conv2D(64, (3, 3), activation='relu', padding='same')(x)\n",
        "    x = BatchNormalization()(x)\n",
        "    x = UpSampling2D((2,2))(x)\n",
        "    x = Conv2D(32, (3, 3), activation='relu', padding='same')(x)\n",
        "    x = BatchNormalization()(x)\n",
        "    x = Conv2D(32, (3, 3), activation='relu', padding='same')(x)\n",
        "    x = BatchNormalization()(x)\n",
        "    x = UpSampling2D((2,2))(x)\n",
        "    decoded = Conv2D(1, (3, 3), activation='sigmoid', padding='same')(x)\n",
        "    return decoded"
      ]
    },
    {
      "cell_type": "code",
      "execution_count": null,
      "id": "07cdaca2",
      "metadata": {
        "id": "07cdaca2"
      },
      "outputs": [],
      "source": [
        "#specifying the loss type\n",
        "autoencoder = Model(input_img, decoder(encoder(input_img)))\n",
        "autoencoder.compile(loss = 'mean_squared_error', \n",
        "                    optimizer = RMSprop(),\n",
        "                    metrics = ['accuracy'])"
      ]
    },
    {
      "cell_type": "code",
      "execution_count": null,
      "id": "4d3cf904",
      "metadata": {
        "id": "4d3cf904"
      },
      "outputs": [],
      "source": [
        "autoencoder.summary()"
      ]
    },
    {
      "cell_type": "markdown",
      "id": "1ded86ca",
      "metadata": {
        "id": "1ded86ca"
      },
      "source": [
        "# Train the model"
      ]
    },
    {
      "cell_type": "code",
      "execution_count": null,
      "id": "0dd7d3db",
      "metadata": {
        "id": "0dd7d3db"
      },
      "outputs": [],
      "source": [
        "autoencoder_train = autoencoder.fit(X_train,\n",
        "                                    label_train, \n",
        "                                    batch_size = batch_size, \n",
        "                                    epochs = epochs,\n",
        "                                    verbose = 1,\n",
        "                                    validation_data = (X_val, label_val))"
      ]
    },
    {
      "cell_type": "markdown",
      "source": [
        "# Visualization"
      ],
      "metadata": {
        "id": "R7tJLFdiePE2"
      },
      "id": "R7tJLFdiePE2"
    },
    {
      "cell_type": "code",
      "execution_count": null,
      "id": "957cbe87",
      "metadata": {
        "id": "957cbe87"
      },
      "outputs": [],
      "source": [
        "#plot the loss between training and validation data\n",
        "loss = autoencoder_train.history['loss']\n",
        "val_loss = autoencoder_train.history['val_loss']\n",
        "epochs = range(13)\n",
        "plt.figure()\n",
        "plt.plot(epochs, loss, 'b', c = 'blue', label = 'Training Loss')\n",
        "plt.plot(epochs, val_loss, 'b', c = 'orange', label = 'Validation loss')\n",
        "plt.title('Training and validation loss')\n",
        "plt.legend()\n",
        "plt.show()"
      ]
    },
    {
      "cell_type": "code",
      "source": [
        "#save the model\n",
        "#probably not important since ModelCheckpoint is initialized\n",
        "#autoencoder.save_weights('autoencoder.h5')"
      ],
      "metadata": {
        "id": "XggbszU8mWZm"
      },
      "id": "XggbszU8mWZm",
      "execution_count": null,
      "outputs": []
    },
    {
      "cell_type": "markdown",
      "source": [
        "# Classify the images"
      ],
      "metadata": {
        "id": "soX1juocmmzu"
      },
      "id": "soX1juocmmzu"
    },
    {
      "cell_type": "code",
      "source": [
        "#convert labels into one-hot encoding vectors\n",
        "encoded_train = to_categorical(label_train)\n",
        "encoded_test = to_categorical(label_test)\n",
        "encoded_val = to_categorical(label_val)\n",
        "\n",
        "#display the changes by the one-hot encoding\n",
        "print('Original label:', label_train[0])\n",
        "print('After conversion to one-hot:', encoded_train[0])"
      ],
      "metadata": {
        "id": "fxuzu80tmp1e"
      },
      "id": "fxuzu80tmp1e",
      "execution_count": null,
      "outputs": []
    },
    {
      "cell_type": "code",
      "source": [
        "#print the shape of each set\n",
        "print(\"X_train shape: {}\\nencoded_train shape: {}\".format(X_train.shape, encoded_train.shape))\n",
        "print(\"\\nX_test shape: {}\\nencoded_test shape: {}\".format(X_test.shape, encoded_test.shape))\n",
        "print(\"\\nX_val shape: {}\\nencoded_val shape: {}\".format(X_val.shape, encoded_val.shape))"
      ],
      "metadata": {
        "id": "UejLK9B-OQxl"
      },
      "id": "UejLK9B-OQxl",
      "execution_count": null,
      "outputs": []
    },
    {
      "cell_type": "code",
      "source": [
        "#define the fully connected layers\n",
        "def fc(enco):\n",
        "  flat = Flatten()(enco)\n",
        "  den = Dense(128, activation='relu')(flat)\n",
        "  out = Dense(num_classes, activation='softmax')(den)\n",
        "  return out"
      ],
      "metadata": {
        "id": "y11UyuiiQyyI"
      },
      "id": "y11UyuiiQyyI",
      "execution_count": null,
      "outputs": []
    },
    {
      "cell_type": "code",
      "source": [
        "encode = encoder(input_img)\n",
        "full_model = Model(input_img, fc(encode))"
      ],
      "metadata": {
        "id": "WqEOFV13RFDm"
      },
      "id": "WqEOFV13RFDm",
      "execution_count": null,
      "outputs": []
    },
    {
      "cell_type": "code",
      "source": [
        "for l1, l2 in zip(full_model.layers[:19], autoencoder.layers[0:19]):\n",
        "  l1.set_weights(l2.get_weights())"
      ],
      "metadata": {
        "id": "AevGuFOwRN8J"
      },
      "id": "AevGuFOwRN8J",
      "execution_count": null,
      "outputs": []
    },
    {
      "cell_type": "code",
      "source": [
        "#make sure that the weights of the autoencoder is similar with the full model\n",
        "autoencoder.get_weights()[0][1]"
      ],
      "metadata": {
        "id": "uMQdacj3RdRL"
      },
      "id": "uMQdacj3RdRL",
      "execution_count": null,
      "outputs": []
    },
    {
      "cell_type": "code",
      "source": [
        "full_model.get_weights()[0][1]"
      ],
      "metadata": {
        "id": "LUhRsiJFSgEd"
      },
      "id": "LUhRsiJFSgEd",
      "execution_count": null,
      "outputs": []
    },
    {
      "cell_type": "code",
      "source": [
        "#make the encoder untrainable since it is already done\n",
        "for layer in full_model.layers[0:19]:\n",
        "  layer.trainable = False"
      ],
      "metadata": {
        "id": "STKfrzxQSkrm"
      },
      "id": "STKfrzxQSkrm",
      "execution_count": null,
      "outputs": []
    },
    {
      "cell_type": "code",
      "source": [
        "#compile the model \n",
        "full_model.compile(loss = keras.losses.categorical_crossentropy, \n",
        "                   optimizer = keras.optimizers.Adam(), \n",
        "                   metrics = ['accuracy'])"
      ],
      "metadata": {
        "id": "FnIoyTBZStEK"
      },
      "id": "FnIoyTBZStEK",
      "execution_count": null,
      "outputs": []
    },
    {
      "cell_type": "code",
      "source": [
        "#print the summary of the full model\n",
        "full_model.summary()"
      ],
      "metadata": {
        "id": "64K56L8-S36Q"
      },
      "id": "64K56L8-S36Q",
      "execution_count": null,
      "outputs": []
    },
    {
      "cell_type": "markdown",
      "source": [
        "# Train the model again"
      ],
      "metadata": {
        "id": "pSFq1Je2bKl1"
      },
      "id": "pSFq1Je2bKl1"
    },
    {
      "cell_type": "code",
      "source": [
        "#define an early stopping callback\n",
        "#this allows the epoch processing before it overfits\n",
        "monitor_val_acc = EarlyStopping(monitor = 'val_loss',\n",
        "                                patience = 7)"
      ],
      "metadata": {
        "id": "jAxWKwv_2jMz"
      },
      "execution_count": null,
      "outputs": [],
      "id": "jAxWKwv_2jMz"
    },
    {
      "cell_type": "code",
      "source": [
        "#instantiate a path to save checkpoints\n",
        "#checkpoint_filepath = '/tmp/checkpoint'\n",
        "\n",
        "#save the best model made during training\n",
        "model_checkpoint = ModelCheckpoint('best_full_model.hdf5',\n",
        "                                   save_weights_only = True,\n",
        "                                   save_best_only = True)"
      ],
      "metadata": {
        "id": "kKEiVngs3Y1w"
      },
      "execution_count": null,
      "outputs": [],
      "id": "kKEiVngs3Y1w"
    },
    {
      "cell_type": "code",
      "source": [
        "classify_train = full_model.fit(X_train, encoded_train, \n",
        "                                batch_size = 256, \n",
        "                                epochs = 50, \n",
        "                                verbose = 1,\n",
        "                                validation_data = (X_val, encoded_val),\n",
        "                                callbacks = [monitor_val_acc, model_checkpoint2])"
      ],
      "metadata": {
        "id": "cRXqJCYuaHpE"
      },
      "id": "cRXqJCYuaHpE",
      "execution_count": null,
      "outputs": []
    },
    {
      "cell_type": "code",
      "source": [
        "#forget this line\n",
        "#save the classification model again\n",
        "#full_model.save_weights('autoencoder_classification.h5')"
      ],
      "metadata": {
        "id": "pY06DjN1bdb-"
      },
      "id": "pY06DjN1bdb-",
      "execution_count": null,
      "outputs": []
    },
    {
      "cell_type": "code",
      "source": [
        "#visualization of the model evaluation\n",
        "#plot image will change with more epochs\n",
        "accuracy = classify_train.history['accuracy']\n",
        "val_accuracy = classify_train.history['val_accuracy']\n",
        "loss = classify_train.history['loss']\n",
        "val_loss = classify_train.history['val_loss']\n",
        "epochs = range(len(accuracy))\n",
        "\n",
        "#Visualize the accuracy\n",
        "plt.plot(epochs, accuracy, 'b', c = 'blue', label = 'Training accuracy')\n",
        "plt.plot(epochs, val_accuracy, 'b', c = 'orange', label = 'Validation accuracy')\n",
        "plt.title('Training and validation accuracy')\n",
        "plt.xlabel('Epochs')\n",
        "plt.ylabel('Loss')\n",
        "plt.legend()\n",
        "plt.figure()\n",
        "\n",
        "#Visualize the loss\n",
        "plt.plot(epochs, loss, 'b', c = 'blue', label = 'Training loss')\n",
        "plt.plot(epochs, val_loss, 'b', c = 'orange', label = 'Validation loss')\n",
        "plt.title('Training and validation loss')\n",
        "plt.xlabel('Epochs')\n",
        "plt.ylabel('Loss')\n",
        "plt.legend()\n",
        "plt.show()"
      ],
      "metadata": {
        "id": "VFzEw7dNlF_H"
      },
      "id": "VFzEw7dNlF_H",
      "execution_count": null,
      "outputs": []
    },
    {
      "cell_type": "markdown",
      "source": [
        "# Model Evaluation on the Test Set"
      ],
      "metadata": {
        "id": "5eqQThWKmgPD"
      },
      "id": "5eqQThWKmgPD"
    },
    {
      "cell_type": "code",
      "source": [
        "test_eval = full_model.evaluate(X_test, encoded_test, verbose = 0)"
      ],
      "metadata": {
        "id": "BPTHj6l9l-tW"
      },
      "id": "BPTHj6l9l-tW",
      "execution_count": null,
      "outputs": []
    },
    {
      "cell_type": "code",
      "source": [
        "print('Test loss:', test_eval[0])\n",
        "print('Test accuracy:', test_eval[1])"
      ],
      "metadata": {
        "id": "LPGPGaxSmrwN"
      },
      "id": "LPGPGaxSmrwN",
      "execution_count": null,
      "outputs": []
    },
    {
      "cell_type": "markdown",
      "source": [
        "# Predict Labels"
      ],
      "metadata": {
        "id": "Neags1ekm1cz"
      },
      "id": "Neags1ekm1cz"
    },
    {
      "cell_type": "code",
      "source": [
        "predicted_classes = full_model.predict(X_test)"
      ],
      "metadata": {
        "id": "3wXIy8IWmzUy"
      },
      "id": "3wXIy8IWmzUy",
      "execution_count": null,
      "outputs": []
    },
    {
      "cell_type": "code",
      "source": [
        "predicted_classes = np.argmax(np.round(predicted_classes), axis = 1)"
      ],
      "metadata": {
        "id": "Vell0iz0m7Pg"
      },
      "id": "Vell0iz0m7Pg",
      "execution_count": null,
      "outputs": []
    },
    {
      "cell_type": "code",
      "source": [
        "predicted_classes.shape, label_test.shape"
      ],
      "metadata": {
        "id": "g0igU84nnC-V"
      },
      "id": "g0igU84nnC-V",
      "execution_count": null,
      "outputs": []
    },
    {
      "cell_type": "code",
      "source": [
        "correct = np.where(predicted_classes == label_test)[0]\n",
        "print('Found %d correct labels' % len(correct) + ' out of %d ' % len(X_test))\n",
        "for i, correct in enumerate(correct[:9]):\n",
        "  plt.subplot(3,3, i+1)\n",
        "  plt.imshow(X_test[correct].reshape(75, 75, 3), interpolation = 'none')\n",
        "  plt.title('Predicted {}, Class {}'.format(predicted_classes[correct], label_test[correct]))\n",
        "  plt.tight_layout()"
      ],
      "metadata": {
        "id": "Rp8zkSNWnIsO"
      },
      "id": "Rp8zkSNWnIsO",
      "execution_count": null,
      "outputs": []
    },
    {
      "cell_type": "code",
      "source": [
        "incorrect = np.where(predicted_classes != label_test)[0]\n",
        "print('Found %d incorrect labels ' % len(incorrect) + ' out of %d ' % len(X_test))\n",
        "for i, incorrect in enumerate(incorrect[:9]):\n",
        "  plt.subplot(3, 3, i+1)\n",
        "  plt.imshow(X_test[incorrect].reshape(75, 75, 3), interpolation = 'none')\n",
        "  plt.title('Predicted {}, Class{} '.format(predicted_classes[incorrect], label_test[incorrect]))\n",
        "  plt.tight_layout()"
      ],
      "metadata": {
        "id": "3snqegbooRgv"
      },
      "id": "3snqegbooRgv",
      "execution_count": null,
      "outputs": []
    },
    {
      "cell_type": "markdown",
      "source": [
        "# Classification Report"
      ],
      "metadata": {
        "id": "T7oNwDr7ql5n"
      },
      "id": "T7oNwDr7ql5n"
    },
    {
      "cell_type": "code",
      "source": [
        "#create a classification report\n",
        "target_names = ['Class {}'.format(i) for i in range(num_classes)]\n",
        "print(classification_report(label_test, predicted_classes, target_names = target_names))"
      ],
      "metadata": {
        "id": "uDHiNFPtpBm-"
      },
      "id": "uDHiNFPtpBm-",
      "execution_count": null,
      "outputs": []
    }
  ],
  "metadata": {
    "kernelspec": {
      "display_name": "Python 3 (ipykernel)",
      "language": "python",
      "name": "python3"
    },
    "language_info": {
      "codemirror_mode": {
        "name": "ipython",
        "version": 3
      },
      "file_extension": ".py",
      "mimetype": "text/x-python",
      "name": "python",
      "nbconvert_exporter": "python",
      "pygments_lexer": "ipython3",
      "version": "3.8.10"
    },
    "colab": {
      "provenance": [],
      "collapsed_sections": [
        "T7oNwDr7ql5n"
      ],
      "include_colab_link": true
    },
    "gpuClass": "standard"
  },
  "nbformat": 4,
  "nbformat_minor": 5
}